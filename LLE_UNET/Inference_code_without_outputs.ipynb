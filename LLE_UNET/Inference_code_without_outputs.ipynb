{
  "cells": [
    {
      "cell_type": "code",
      "execution_count": null,
      "metadata": {
        "colab": {
          "base_uri": "https://localhost:8080/"
        },
        "id": "Jq-r_A16goIp",
        "outputId": "2a812f82-0886-4f5d-92b1-4a886df4fc3f"
      },
      "outputs": [],
      "source": [
        "from google.colab import drive\n",
        "drive.mount('/content/drive')"
      ]
    },
    {
      "cell_type": "code",
      "execution_count": null,
      "metadata": {
        "colab": {
          "base_uri": "https://localhost:8080/"
        },
        "id": "knv2XV5vsKtq",
        "outputId": "eef6800f-e42a-46d6-cc36-44075ca68014"
      },
      "outputs": [],
      "source": [
        "%cd /content/drive/MyDrive/FYP2/Test_Models/VGG2"
      ]
    },
    {
      "cell_type": "code",
      "execution_count": null,
      "metadata": {
        "id": "cAEhCWq7iNUN"
      },
      "outputs": [],
      "source": [
        "import os\n",
        "import cv2\n",
        "import numpy as np\n",
        "from matplotlib import pyplot as plt\n",
        "\n",
        "import tensorflow as tf"
      ]
    },
    {
      "cell_type": "code",
      "execution_count": null,
      "metadata": {
        "id": "nBFs6zhMr2qt"
      },
      "outputs": [],
      "source": [
        "# Load custom Function\n",
        "import image_padding\n",
        "import create_model"
      ]
    },
    {
      "attachments": {},
      "cell_type": "markdown",
      "metadata": {
        "id": "scvxqswThWkx"
      },
      "source": [
        "# Load Model"
      ]
    },
    {
      "cell_type": "code",
      "execution_count": null,
      "metadata": {
        "colab": {
          "base_uri": "https://localhost:8080/"
        },
        "id": "A_au4IzyiBcs",
        "outputId": "ead7f7e4-7ff8-448c-b07c-cbf29bf18e7b"
      },
      "outputs": [],
      "source": [
        "input_shape = (None, None, 3)\n",
        "model = create_model.build_model(input_shape)\n",
        "model.summary()"
      ]
    },
    {
      "cell_type": "code",
      "execution_count": null,
      "metadata": {
        "id": "oYiF7jnJiuLJ"
      },
      "outputs": [],
      "source": [
        "def charbonnier_loss(y_true, y_pred):\n",
        "    return tf.reduce_mean(tf.sqrt(tf.square(y_true - y_pred) + tf.square(1e-3)))\n",
        "\n",
        "def psnr_loss_fn(y_true, y_pred):\n",
        "    return tf.image.psnr(y_pred, y_true, max_val=255.0)\n",
        "\n",
        "def ssim_loss_fn(y_true,y_pred):\n",
        "    return tf.image.ssim(y_true,y_pred,1.0)"
      ]
    },
    {
      "cell_type": "code",
      "execution_count": null,
      "metadata": {
        "id": "XOvtOBWjhZVW"
      },
      "outputs": [],
      "source": [
        "model_path = r'/content/drive/MyDrive/FYP2/Test_Models/VGG2/VGGv4.h5'"
      ]
    },
    {
      "cell_type": "code",
      "execution_count": null,
      "metadata": {
        "id": "LcGe-0LBhe8R"
      },
      "outputs": [],
      "source": [
        "from keras.models import load_model\n",
        "model = load_model(model_path,custom_objects={'charbonnier_loss': charbonnier_loss,\n",
        "                                              'psnr_loss_fn':psnr_loss_fn,\n",
        "                                              'ssim_loss_fn':ssim_loss_fn},\n",
        "                                              compile = False)"
      ]
    },
    {
      "cell_type": "code",
      "execution_count": null,
      "metadata": {
        "id": "OHftOkJgtl5f"
      },
      "outputs": [],
      "source": [
        "def preprocess_npImage(np_image):\n",
        "  img_dim = np_image.shape[:2]\n",
        "  np_image = cv2.cvtColor(np_image, cv2.COLOR_BGR2RGB)\n",
        "  preprocess_img = image_padding.pad_image(np_image)\n",
        "  preprocess_img = preprocess_img/255;\n",
        "  return preprocess_img,img_dim\n",
        "\n",
        "def preprocess_image(img_path):\n",
        "  img = cv2.imread(img_path)\n",
        "  return preprocess_npImage(img)"
      ]
    },
    {
      "attachments": {},
      "cell_type": "markdown",
      "metadata": {
        "id": "HhCU2uE2r6GH"
      },
      "source": [
        "## **Prediction for all images in folder**"
      ]
    },
    {
      "cell_type": "code",
      "execution_count": null,
      "metadata": {
        "id": "hUplYU2Fr9U9"
      },
      "outputs": [],
      "source": [
        "# train\n",
        "#test_image_dir = r'/content/drive/MyDrive/FYP/YOLO_Results/Train'\n",
        "# test_image_dir = r'/content/drive/MyDrive/FYP2/Test_Models/VGG_LowLight_v1/testing_images_v3'\n",
        "#test_image_dir = r'/content/drive/MyDrive/FYP/Datastets/Lol_Dataset/LOLdataset_All/eval15/low'\n",
        "test_image_dir = r'/content/drive/MyDrive/FYP/Datastets/Lol_Dataset/LOL_testImages/LOL_Low_Images'"
      ]
    },
    {
      "cell_type": "code",
      "execution_count": null,
      "metadata": {
        "id": "rZfrGo_4r_0v"
      },
      "outputs": [],
      "source": [
        "# saving\n",
        "save_dir = r'/content/drive/MyDrive/FYP2/Test_Models/VGG_LowLight_v1'\n",
        "save_folder_name = 'LLE_UNET_v6'\n",
        "save_folder_path = os.path.join(save_dir,save_folder_name)\n",
        "\n",
        "if not os.path.exists(save_folder_path):\n",
        "  print(\"DIRECTORY CREATED\")\n",
        "  os.makedirs(save_folder_path)"
      ]
    },
    {
      "cell_type": "code",
      "execution_count": null,
      "metadata": {
        "colab": {
          "base_uri": "https://localhost:8080/",
          "height": 1000
        },
        "id": "B1SZ5QD_sEel",
        "outputId": "0bad8d0e-9b60-462d-c99c-a52fa65d0fe2"
      },
      "outputs": [],
      "source": [
        "saved_images = os.listdir(save_folder_path)\n",
        "test_images = os.listdir(test_image_dir)\n",
        "\n",
        "#n_images = 20\n",
        "n_images = len(test_images)\n",
        "display = True\n",
        "\n",
        "for i,image_name in enumerate(test_images):\n",
        "  if i==n_images:\n",
        "    break\n",
        "\n",
        "  if image_name in saved_images:\n",
        "    print(f\"{i} Already Saved\")\n",
        "    #continue\n",
        "  image_path = os.path.join(test_image_dir,image_name)\n",
        "  print(f'{i+1}/{n_images} : {image_path}')\n",
        "\n",
        "  img = cv2.imread(image_path)\n",
        "  w,h = img.shape[0],img.shape[1]\n",
        "\n",
        "  low_img,img_dim = preprocess_image(image_path)\n",
        "  prediction = model.predict(np.expand_dims(low_img,axis=0),verbose=0)\n",
        "\n",
        "  out_frame = prediction[0]*255.0\n",
        "  out_frame = out_frame.astype(np.uint8)\n",
        "  out_frame = image_padding.inverse_padding(out_frame, img_dim, pad_method=\"center_padding\")\n",
        "  # out_frame = cv2.resize(out_frame,(h,w))\n",
        "\n",
        "  if display:\n",
        "    fig, ax = plt.subplots(ncols=2, figsize=(10,10));\n",
        "    ax[0].imshow(low_img);\n",
        "    ax[1].imshow(out_frame);\n",
        "\n",
        "    ax[0].axis('off');\n",
        "    ax[1].axis('off');\n",
        "\n",
        "    ax[0].set_title(\"Low Image\")\n",
        "    ax[1].set_title(\"Predicted Image\")\n",
        "    plt.show()\n",
        "\n",
        "  ### save\n",
        "  #save_name = f'VGG_{image_name.split(\".\")[0]}.png'\n",
        "  save_name = image_name\n",
        "  save_path = os.path.join(save_folder_path,save_name)\n",
        "  #fig.savefig(save_path,bbox_inches='tight',dpi=300);\n",
        "\n",
        "  cv2.imwrite(save_path, out_frame)"
      ]
    },
    {
      "attachments": {},
      "cell_type": "markdown",
      "metadata": {
        "id": "R-5U3hBfj80t"
      },
      "source": [
        "## **Prediction for Image**"
      ]
    },
    {
      "cell_type": "code",
      "execution_count": null,
      "metadata": {
        "id": "uTu81-d5j8Pv"
      },
      "outputs": [],
      "source": [
        "test_lowimg_path = r'/content/drive/MyDrive/FYP2/Test_Models/VGG_LowLight_v1/Copy-of-IMG_7957-1-mov_Frame_720_jpg.rf.4f988c600fbf4d641dcf281e3341071f.jpg'"
      ]
    },
    {
      "cell_type": "code",
      "execution_count": null,
      "metadata": {
        "colab": {
          "base_uri": "https://localhost:8080/"
        },
        "id": "Bt2GTM-vg9nw",
        "outputId": "5a9aadad-363b-4497-99a6-701f956800f2"
      },
      "outputs": [],
      "source": [
        "LowImg,img_dim = preprocess_image(test_lowimg_path)\n",
        "print(img_dim)"
      ]
    },
    {
      "cell_type": "code",
      "execution_count": null,
      "metadata": {
        "colab": {
          "base_uri": "https://localhost:8080/"
        },
        "id": "TFsj0wvohDTk",
        "outputId": "60af2177-1d72-4ae8-9126-93774663a02b"
      },
      "outputs": [],
      "source": [
        "prediction = model.predict(np.expand_dims(LowImg,axis=0))[0]\n",
        "prediction_image = image_padding.inverse_padding(prediction, img_dim, pad_method=\"center_padding\")"
      ]
    },
    {
      "cell_type": "code",
      "execution_count": null,
      "metadata": {
        "colab": {
          "base_uri": "https://localhost:8080/",
          "height": 358
        },
        "id": "my0lQgRIhGYa",
        "outputId": "b3ebe756-437b-42c5-f697-fa697412ec2f"
      },
      "outputs": [],
      "source": [
        "fig, ax = plt.subplots(ncols=2, figsize=(15,10));\n",
        "ax[0].imshow(LowImg);\n",
        "ax[1].imshow(prediction_image);\n",
        "\n",
        "ax[0].axis('off');\n",
        "ax[1].axis('off');\n",
        "\n",
        "ax[0].set_title(\"Low Image\")\n",
        "ax[1].set_title(\"Predicted Image\")\n",
        "plt.show()"
      ]
    },
    {
      "attachments": {},
      "cell_type": "markdown",
      "metadata": {
        "id": "D9dAzDxjkEjG"
      },
      "source": [
        "## **Video Prediction**"
      ]
    },
    {
      "cell_type": "code",
      "execution_count": null,
      "metadata": {
        "id": "X0yuERVBkBHE"
      },
      "outputs": [],
      "source": [
        "video_path = r'/content/drive/MyDrive/FYP/Datastets/Data_Primash/February /IMG_7948.mov'"
      ]
    },
    {
      "cell_type": "code",
      "execution_count": null,
      "metadata": {
        "colab": {
          "base_uri": "https://localhost:8080/",
          "height": 1000
        },
        "id": "YH10qtmGkUNB",
        "outputId": "2155d3f5-f942-4f64-b877-d01b0c64b077"
      },
      "outputs": [],
      "source": [
        "cap = cv2.VideoCapture(video_path)\n",
        "\n",
        "total_frames = cap.get(cv2.CAP_PROP_FRAME_COUNT)\n",
        "fps = cap.get(cv2.CAP_PROP_FPS)\n",
        "print(f'Total Frames : {total_frames}')\n",
        "print(f'FPS : {fps}')\n",
        "\n",
        "frame_count = 0\n",
        "while True:\n",
        "    ret, frame = cap.read()\n",
        "    if not ret: break\n",
        "\n",
        "    w,h = frame.shape[0],frame.shape[1]\n",
        "    frame_count += 1\n",
        "    if frame_count==5:\n",
        "      break\n",
        "\n",
        "    img_preprocess,img_dim = preprocess_npImage(frame)\n",
        "\n",
        "    prediction = model.predict(np.expand_dims(img_preprocess,axis=0),verbose=0)\n",
        "\n",
        "    out_frame = prediction[0]*255.0\n",
        "    out_frame = out_frame.astype(np.uint8)\n",
        "    out_frame = image_padding.inverse_padding(out_frame, img_dim, pad_method=\"center_padding\")\n",
        "\n",
        "\n",
        "    fig, ax = plt.subplots(ncols=2, figsize=(10,10));\n",
        "    ax[0].imshow(frame);\n",
        "    ax[1].imshow(out_frame);\n",
        "    ax[0].axis('off');\n",
        "    ax[1].axis('off');\n",
        "    ax[0].set_title(\"Low Image\")\n",
        "    ax[1].set_title(\"Predicted Image\")\n",
        "    plt.show()\n",
        "\n",
        "cap.release()\n",
        "cv2.destroyAllWindows()"
      ]
    }
  ],
  "metadata": {
    "accelerator": "GPU",
    "colab": {
      "gpuType": "T4",
      "provenance": []
    },
    "kernelspec": {
      "display_name": "Python 3",
      "name": "python3"
    },
    "language_info": {
      "name": "python"
    }
  },
  "nbformat": 4,
  "nbformat_minor": 0
}
