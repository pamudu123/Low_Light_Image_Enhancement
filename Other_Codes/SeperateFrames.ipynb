{
  "cells": [
    {
      "cell_type": "markdown",
      "source": [
        "## **Seperate Frames from Video in specific interval**"
      ],
      "metadata": {
        "id": "ClKjWLKxXXuU"
      }
    },
    {
      "cell_type": "code",
      "execution_count": null,
      "metadata": {
        "id": "lv-6X0NJF5pd"
      },
      "outputs": [],
      "source": [
        "import os\n",
        "import numpy as np\n",
        "import cv2\n",
        "from google.colab.patches import cv2_imshow"
      ]
    },
    {
      "cell_type": "code",
      "execution_count": null,
      "metadata": {
        "colab": {
          "base_uri": "https://localhost:8080/"
        },
        "id": "odSKsScYaCGP",
        "outputId": "002f5af6-253e-42fd-ec39-f11b49c80b60"
      },
      "outputs": [
        {
          "output_type": "stream",
          "name": "stdout",
          "text": [
            "Mounted at /content/drive\n"
          ]
        }
      ],
      "source": [
        "from google.colab import drive\n",
        "drive.mount('/content/drive')"
      ]
    },
    {
      "cell_type": "code",
      "execution_count": null,
      "metadata": {
        "colab": {
          "base_uri": "https://localhost:8080/"
        },
        "id": "aURZhoINGBf_",
        "outputId": "92e72bb1-db8b-4ee0-89e0-5d7c04bcdc8b"
      },
      "outputs": [
        {
          "output_type": "stream",
          "name": "stdout",
          "text": [
            "/content/drive/MyDrive/FYP\n"
          ]
        }
      ],
      "source": [
        "%cd /content/drive/MyDrive/FYP/"
      ]
    },
    {
      "cell_type": "code",
      "execution_count": null,
      "metadata": {
        "colab": {
          "base_uri": "https://localhost:8080/"
        },
        "id": "IOYMSZihGPPM",
        "outputId": "f0501b5e-a242-41b6-bc5c-84dedecaa67b"
      },
      "outputs": [
        {
          "output_type": "stream",
          "name": "stdout",
          "text": [
            " Add_Files\t\t\t\t Roboflow.ipynb\n",
            " Datastets\t\t\t\t saved_iamges\n",
            " Enhance_Try\t\t\t\t SeperateFrames.ipynb\n",
            " Handle_Annotations.ipynb\t\t Test_model3\n",
            " Images_with_Annotations\t\t Test_Models\n",
            " MirNet_Repo\t\t\t\t Test_Results_V1\n",
            " MIRNET_train2\t\t\t\t Train_YOLO_Data\n",
            " MIRNetv2\t\t\t\t Video_Image.ipynb\n",
            "'MIRNetv2_Low Light Enhancement.ipynb'\t'Videos and Frames'\n",
            " MIRNET_Weights\t\t\t\t YOLO_Results\n",
            " ML_models\t\t\t\t ZeoroDCE\n",
            " Photos_Primash\n"
          ]
        }
      ],
      "source": [
        "!ls"
      ]
    },
    {
      "cell_type": "code",
      "execution_count": null,
      "metadata": {
        "id": "nXhztEV3ImDf"
      },
      "outputs": [],
      "source": [
        "save_folder = r'YOLO_Results/Train'\n",
        "if not os.path.exists(os.path.join(save_folder)):\n",
        "  print(\"Folder Created\")\n",
        "  os.makedirs(os.path.join(save_folder))"
      ]
    },
    {
      "cell_type": "markdown",
      "metadata": {
        "id": "gbxd4oEoI2kb"
      },
      "source": [
        "## **Saving for one Video**"
      ]
    },
    {
      "cell_type": "code",
      "execution_count": null,
      "metadata": {
        "id": "AnsBCTl2G61C"
      },
      "outputs": [],
      "source": [
        "video_path = r'/content/drive/MyDrive/FYP/Videos and Frames/Testing/Copy of Video_1.mp4'\n",
        "video_name = os.path.basename(video_path)\n",
        "\n",
        "cap = cv2.VideoCapture(video_path)\n",
        "\n",
        "total_frames = cap.get(cv2.CAP_PROP_FRAME_COUNT)\n",
        "fps = cap.get(cv2.CAP_PROP_FPS)\n",
        "\n",
        "skip_freq = int(6*fps)\n",
        "print(f'TOTAL {total_frames}')\n",
        "print(f'SKIP {skip_freq}')\n",
        "\n",
        "c = 0\n",
        "i = 0 \n",
        "while True:\n",
        "    ret, frame = cap.read()\n",
        "    if not ret: break\n",
        "    \n",
        "    if c % skip_freq == 0:\n",
        "      save_name = f'{video_name}_Frame_{c}.jpg'\n",
        "      save_path = os.path.join(save_folder,save_name)\n",
        "      cv2.imwrite(save_path, frame)\n",
        "      print(f'{c} \\t {save_name} SAVED')\n",
        "      i +=1 \n",
        "\n",
        "    if c % skip_freq*50 == 0:\n",
        "      print(c)\n",
        "      cv2_imshow(frame)\n",
        "    \n",
        "    c+=1\n",
        "       \n",
        "cap.release()\n",
        "cv2.destroyAllWindows()"
      ]
    },
    {
      "cell_type": "markdown",
      "metadata": {
        "id": "dhsQ3MPJSWHA"
      },
      "source": [
        "### **Save All Videos to Frames**"
      ]
    },
    {
      "cell_type": "markdown",
      "source": [
        "skip frequency (ex-3 save frame after every 3 seconds)"
      ],
      "metadata": {
        "id": "vObm9LtmYAiY"
      }
    },
    {
      "cell_type": "code",
      "execution_count": null,
      "metadata": {
        "id": "lxY5D1okSVc6"
      },
      "outputs": [],
      "source": [
        "def save_video_frames(video_path,skip_fps=3):\n",
        "  video_name = os.path.basename(video_path)\n",
        "  cap = cv2.VideoCapture(video_path)\n",
        "\n",
        "  total_frames = cap.get(cv2.CAP_PROP_FRAME_COUNT)\n",
        "  fps = cap.get(cv2.CAP_PROP_FPS)\n",
        "\n",
        "  skip_freq = int(skip_fps*fps)\n",
        "  print(f'TOTAL {total_frames}')\n",
        "  print(f'SKIP {skip_freq}')\n",
        "  print(\"-----------------------------------------------------\")\n",
        "\n",
        "  c = 0\n",
        "  i = 0 \n",
        "  while True:\n",
        "      ret, frame = cap.read()\n",
        "      if not ret: break\n",
        "      \n",
        "      if c % skip_freq == 0:\n",
        "        save_name = f'{video_name}_Frame_{c}.jpg'\n",
        "        save_path = os.path.join(save_folder,save_name)\n",
        "        cv2.imwrite(save_path, frame)\n",
        "        print(f'{c} \\t {save_name} SAVED')\n",
        "        i +=1 \n",
        "\n",
        "      # if c % skip_freq*50 == 0:\n",
        "      #   cv2_imshow(frame)\n",
        "      \n",
        "      c+=1\n",
        "\n",
        "  cap.release()\n",
        "  cv2.destroyAllWindows()"
      ]
    },
    {
      "cell_type": "code",
      "execution_count": null,
      "metadata": {
        "colab": {
          "base_uri": "https://localhost:8080/"
        },
        "id": "D6YUmWy6Szsf",
        "outputId": "e6595c4b-2f38-4ac5-c5d9-9ea71af0d48f"
      },
      "outputs": [
        {
          "output_type": "stream",
          "name": "stdout",
          "text": [
            "/content/drive/MyDrive/FYP/Videos and Frames/Testing/Copy of Video_2.mp4\n",
            "=================================\n",
            "TOTAL 9578.0\n",
            "SKIP 49\n",
            "-----------------------------------------------------\n",
            "0 \t Copy of Video_2.mp4_Frame_0.jpg SAVED\n",
            "49 \t Copy of Video_2.mp4_Frame_49.jpg SAVED\n",
            "98 \t Copy of Video_2.mp4_Frame_98.jpg SAVED\n",
            "147 \t Copy of Video_2.mp4_Frame_147.jpg SAVED\n",
            "196 \t Copy of Video_2.mp4_Frame_196.jpg SAVED\n",
            "245 \t Copy of Video_2.mp4_Frame_245.jpg SAVED\n",
            "294 \t Copy of Video_2.mp4_Frame_294.jpg SAVED\n",
            "343 \t Copy of Video_2.mp4_Frame_343.jpg SAVED\n",
            "392 \t Copy of Video_2.mp4_Frame_392.jpg SAVED\n",
            "441 \t Copy of Video_2.mp4_Frame_441.jpg SAVED\n",
            "490 \t Copy of Video_2.mp4_Frame_490.jpg SAVED\n",
            "539 \t Copy of Video_2.mp4_Frame_539.jpg SAVED\n",
            "588 \t Copy of Video_2.mp4_Frame_588.jpg SAVED\n",
            "637 \t Copy of Video_2.mp4_Frame_637.jpg SAVED\n",
            "686 \t Copy of Video_2.mp4_Frame_686.jpg SAVED\n",
            "735 \t Copy of Video_2.mp4_Frame_735.jpg SAVED\n"
          ]
        }
      ],
      "source": [
        "video_dir = r'/content/drive/MyDrive/FYP/Videos and Frames/Testing'\n",
        "\n",
        "video_names = os.listdir(video_dir)\n",
        "\n",
        "for vid_name in video_names:\n",
        "  if vid_name.split(\".\")[-1] == 'mp4':\n",
        "    video_path = os.path.join(video_dir,vid_name)\n",
        "    print(video_path)\n",
        "    print(\"=================================\")\n",
        "    save_video_frames(video_path,skip_fps=2)"
      ]
    },
    {
      "cell_type": "code",
      "execution_count": null,
      "metadata": {
        "id": "zWAZIvoJU9kR"
      },
      "outputs": [],
      "source": [
        "print(f'{len(os.listdir(save_folder))} IMAGES SAVED')"
      ]
    }
  ],
  "metadata": {
    "accelerator": "GPU",
    "colab": {
      "provenance": []
    },
    "gpuClass": "standard",
    "kernelspec": {
      "display_name": "Python 3",
      "name": "python3"
    },
    "language_info": {
      "name": "python"
    }
  },
  "nbformat": 4,
  "nbformat_minor": 0
}